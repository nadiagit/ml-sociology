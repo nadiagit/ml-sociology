{
 "cells": [
  {
   "cell_type": "markdown",
   "id": "7efd62b1-1dd4-4734-9a21-743320373442",
   "metadata": {},
   "source": [
    "# Tema 1 - Toiu Andreea"
   ]
  },
  {
   "cell_type": "markdown",
   "id": "bf4f1956-e131-4583-be77-a8df53199e1f",
   "metadata": {},
   "source": [
    "## Exercise 1a Using Functions\n",
    "\n",
    "\n",
    "Try to find the operator or function you need to calculate the following (the easiest way might be an internet search).\n",
    "\n",
    "What is 2 to the power 15?\n",
    "\n",
    "Convert `\"It was the best of times\"` to uppercase.\n",
    "\n",
    "Sort the list `[10, 9, 0, 20, 8, 2, 30, 7, 3]`.\n",
    "\n",
    "What is 100! ? (That is, what is the factorial of 100?) Hint: the `factorial` function is in the `math` library"
   ]
  },
  {
   "cell_type": "code",
   "execution_count": 3,
   "id": "6c119437-a269-4c2e-b51c-db71e65ee60f",
   "metadata": {
    "tags": []
   },
   "outputs": [
    {
     "name": "stdout",
     "output_type": "stream",
     "text": [
      "32768\n"
     ]
    }
   ],
   "source": [
    "# 1a1. What is 2 to the power 15?\n",
    "\n",
    "print(2**15)"
   ]
  },
  {
   "cell_type": "code",
   "execution_count": 9,
   "id": "2621cdfb-22fc-4beb-8799-a29bbb566860",
   "metadata": {
    "tags": []
   },
   "outputs": [
    {
     "name": "stdout",
     "output_type": "stream",
     "text": [
      "IT WAS THE BEST OF TIMES\n"
     ]
    }
   ],
   "source": [
    "# 1a2. Convert \"It was the best of times\" to uppercase\n",
    "\n",
    "sentence = 'It was the best of times'\n",
    "print(sentence.upper())"
   ]
  },
  {
   "cell_type": "code",
   "execution_count": 7,
   "id": "9a983730-ed9b-42f7-9dd1-404b24c63c9b",
   "metadata": {
    "tags": []
   },
   "outputs": [
    {
     "name": "stdout",
     "output_type": "stream",
     "text": [
      "[0, 2, 3, 7, 8, 9, 10, 20, 30]\n"
     ]
    }
   ],
   "source": [
    "# 1a3. Sort the list [10, 9, 0, 20, 8, 2, 30, 7, 3]\n",
    "\n",
    "list = [10, 9, 0, 20, 8, 2, 30, 7, 3]\n",
    "print(sorted(list))"
   ]
  },
  {
   "cell_type": "code",
   "execution_count": 17,
   "id": "a4ccfbed-7582-482a-9015-f784694774b5",
   "metadata": {
    "tags": []
   },
   "outputs": [
    {
     "name": "stdout",
     "output_type": "stream",
     "text": [
      "100! = 93326215443944152681699238856266700490715968264381621468592963895217599993229915608941463976156518286253697920827223758251185210916864000000000000000000000000\n"
     ]
    }
   ],
   "source": [
    "# 1a4. What is 100! ?\n",
    "\n",
    "import math as m\n",
    "factorial = m.factorial(100)\n",
    "print(f'100! = {factorial}')"
   ]
  },
  {
   "cell_type": "markdown",
   "id": "ae447970-5a7b-418e-9bc4-2ab1e27d2dd7",
   "metadata": {
    "tags": []
   },
   "source": [
    "## Exercise 1b Operators\n",
    "\n",
    "\n",
    "Which of the operators `+`, `-`, `*`, and `/` do something useful with the lists `[1, 10, 100]` and `[5, 4, 7]`?\n",
    "\n",
    "What happens if you apply the operators `+`, `-`, `*`, `/` to a list and a number?\n",
    "\n",
    "What about a string and a string?"
   ]
  },
  {
   "cell_type": "code",
   "execution_count": 29,
   "id": "9835a10f-5a3a-42dd-b982-07603f51f749",
   "metadata": {
    "tags": []
   },
   "outputs": [
    {
     "name": "stdout",
     "output_type": "stream",
     "text": [
      "[1, 10, 100, 5, 4, 7]\n"
     ]
    }
   ],
   "source": [
    "# 1b1. Which of the operators `+`, `-`, `*`, and `/` do something useful with the lists `[1, 10, 100]` and `[5, 4, 7]`?\n",
    "\n",
    "# To calculate the value we need to transform the list into arrays (using NumPy) \n",
    "# In this case (without NumpY) the '+' sign will concatenate the x and y lists\n",
    "x = [1, 10, 100]\n",
    "y = [5, 4, 7]\n",
    "\n",
    "print(x+y)\n",
    "# The result will be: [1, 10, 100, 5, 4, 7]"
   ]
  },
  {
   "cell_type": "code",
   "execution_count": 34,
   "id": "1791f599-27f3-4251-aafb-003855178451",
   "metadata": {
    "tags": []
   },
   "outputs": [
    {
     "name": "stdout",
     "output_type": "stream",
     "text": [
      "[10, 20, 30, 10, 20, 30, 10, 20, 30]\n",
      "[10, 20, 30, 10, 20, 30, 10, 20, 30]\n"
     ]
    }
   ],
   "source": [
    "# 1b2. What happens if you apply the operators `+`, `-`, `*`, `/` to a list and a number?\n",
    "\n",
    "list = [10, 20, 30]\n",
    "result1 = list * 3\n",
    "print(result1) # the result will concatenate the list 3 times\n",
    "\n",
    "t = 3\n",
    "print(list*t) # the same result as previous"
   ]
  },
  {
   "cell_type": "code",
   "execution_count": 35,
   "id": "959319c0-34d3-437d-928b-b37baf08f99a",
   "metadata": {
    "tags": []
   },
   "outputs": [
    {
     "name": "stdout",
     "output_type": "stream",
     "text": [
      "Salut\n"
     ]
    }
   ],
   "source": [
    "# 1b3. What about a string and a string?\n",
    "\n",
    "s = 'S'\n",
    "a = 'a'\n",
    "l = 'l'\n",
    "u = 'u'\n",
    "t = 't'\n",
    "print(s+a+l+u+t)"
   ]
  },
  {
   "cell_type": "markdown",
   "id": "aaedd29b-ad01-453a-babe-85c594d3bfa0",
   "metadata": {},
   "source": [
    "## Exercise 1c Maze Model\n",
    "\n",
    "\n",
    "Work with a partner to design a data structure to represent a maze using dictionaries and lists.\n",
    "\n",
    "* Each place in the maze has a name, which is a string.\n",
    "* Each place in the maze has one or more people currently standing at it, by name.\n",
    "* Each place in the maze has a maximum capacity of people that can fit in it.\n",
    "* From each place in the maze, you can go from that place to a few other places, using a direction like 'up', 'north', or 'sideways'\n",
    "\n",
    "Create an example instance, in a notebook, of a simple structure for your maze:\n",
    "\n",
    "* The front room can hold 2 people. James is currently there. You can go outside to the garden, or upstairs to the bedroom, or north to the kitchen.\n",
    "* From the kitchen, you can go south to the front room. It fits 1 person.\n",
    "* From the garden you can go inside to front room. It fits 3 people. Sue is currently there.\n",
    "* From the bedroom, you can go downstairs to the front room. You can also jump out of the window to the garden. It fits 2 people.\n",
    "\n",
    "Make sure that your model:\n",
    "\n",
    "* Allows empty rooms\n",
    "* Allows you to jump out of the upstairs window, but not to fly back up.\n",
    "* Allows rooms which people can't fit in.\n",
    "\n",
    "\n",
    "```python\n",
    "house = [ \"Your answer here\" ]\n",
    "```\n",
    "or\n",
    "```python\n",
    "house = { \"Your answer here\" }\n",
    "```"
   ]
  },
  {
   "cell_type": "code",
   "execution_count": 63,
   "id": "4697560c-2636-4064-bea4-55e46e0d5b2b",
   "metadata": {
    "tags": []
   },
   "outputs": [
    {
     "name": "stdout",
     "output_type": "stream",
     "text": [
      "{'front_room': {'name': 'front_room', 'capacity': 2, 'people': ['James'], 'exits': {'outside': 'garden', 'upstairs': 'bedroom', 'north': 'kitchen'}}, 'kitchen': {'name': 'kitchen', 'capacity': 1, 'people': [], 'exits': {'south': 'front_room'}}, 'garden': {'name': 'garden', 'capacity': 3, 'people': ['Sue'], 'exits': {'inside': 'front_room'}}, 'bedroom': {'name': 'bedroom', 'capacity': 2, 'people': [], 'exits': {'downstairs': 'front_room', 'jump_out_window': 'garden'}}}\n"
     ]
    }
   ],
   "source": [
    "# Exercise 1c\n",
    "\n",
    "house = {\n",
    "    \"front_room\": {\n",
    "        \"name\": \"front_room\",\n",
    "        \"capacity\": 2,\n",
    "        \"people\": [\"James\"],\n",
    "        \"exits\": {\n",
    "            \"outside\": \"garden\",\n",
    "            \"upstairs\": \"bedroom\",\n",
    "            \"north\": \"kitchen\"\n",
    "        }\n",
    "    },\n",
    "    \"kitchen\": {\n",
    "        \"name\": \"kitchen\",\n",
    "        \"capacity\": 1,\n",
    "        \"people\": [],\n",
    "        \"exits\": {\n",
    "            \"south\": \"front_room\"\n",
    "        }\n",
    "    },\n",
    "    \"garden\": {\n",
    "        \"name\": \"garden\",\n",
    "        \"capacity\": 3,\n",
    "        \"people\": [\"Sue\"],\n",
    "        \"exits\": {\n",
    "            \"inside\": \"front_room\"\n",
    "        }\n",
    "    },\n",
    "    \"bedroom\": {\n",
    "        \"name\": \"bedroom\",\n",
    "        \"capacity\": 2,\n",
    "        \"people\": [],\n",
    "        \"exits\": {\n",
    "            \"downstairs\": \"front_room\",\n",
    "            \"jump_out_window\": \"garden\"\n",
    "        }\n",
    "    }\n",
    "}\n",
    "\n",
    "\n",
    "print(house)"
   ]
  },
  {
   "cell_type": "markdown",
   "id": "af4ac18d-7acb-4e19-b840-813bc2592cf2",
   "metadata": {
    "tags": []
   },
   "source": [
    "## Exercise 1d The Maze Population\n",
    "\n",
    "\n",
    "Take your maze data structure. Write a program to count the total number of people in the maze, and also determine the total possible occupants."
   ]
  },
  {
   "cell_type": "code",
   "execution_count": 62,
   "id": "19a4e93e-0674-4fa3-9e72-4da73cc47220",
   "metadata": {
    "tags": []
   },
   "outputs": [
    {
     "name": "stdout",
     "output_type": "stream",
     "text": [
      "In this moment, the house has 2 people inside, but can fit even 8.\n"
     ]
    }
   ],
   "source": [
    "# Exercice 1d\n",
    "\n",
    "occupancy = 0\n",
    "capacity = 0\n",
    "\n",
    "for room in house.values():\n",
    "    capacity += room[\"capacity\"]\n",
    "    occupancy += len(room[\"people\"])\n",
    "\n",
    "print(f\"In this moment, the house has {occupancy} people inside, but can fit even {capacity}.\")"
   ]
  }
 ],
 "metadata": {
  "kernelspec": {
   "display_name": "Python 3 (ipykernel)",
   "language": "python",
   "name": "python3"
  },
  "language_info": {
   "codemirror_mode": {
    "name": "ipython",
    "version": 3
   },
   "file_extension": ".py",
   "mimetype": "text/x-python",
   "name": "python",
   "nbconvert_exporter": "python",
   "pygments_lexer": "ipython3",
   "version": "3.10.13"
  }
 },
 "nbformat": 4,
 "nbformat_minor": 5
}
